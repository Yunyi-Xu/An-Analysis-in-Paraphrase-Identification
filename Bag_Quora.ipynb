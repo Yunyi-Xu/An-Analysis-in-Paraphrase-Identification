{
  "nbformat": 4,
  "nbformat_minor": 0,
  "metadata": {
    "colab": {
      "name": "550 Final BOW Quora.ipynb",
      "provenance": [],
      "collapsed_sections": [],
      "machine_shape": "hm"
    },
    "kernelspec": {
      "name": "python3",
      "display_name": "Python 3"
    },
    "language_info": {
      "name": "python"
    }
  },
  "cells": [
    {
      "cell_type": "code",
      "execution_count": 1,
      "metadata": {
        "id": "Q_rXUPJocVnm"
      },
      "outputs": [],
      "source": [
        "import sklearn\n",
        "from sklearn.feature_extraction.text import CountVectorizer\n",
        "from sklearn.linear_model import LogisticRegression\n",
        "from sklearn.feature_extraction.text import TfidfTransformer\n",
        "#from sklearn.naive_bayes import MultinomialNB\n",
        "#from sklearn.linear_model import SGDClassifier\n",
        "import numpy as np\n",
        "import pandas as pd\n",
        "import nltk\n",
        "from nltk import RegexpTokenizer\n",
        "from nltk.stem.snowball import SnowballStemmer\n",
        "from sklearn.feature_extraction.text import CountVectorizer\n",
        "from nltk.stem import WordNetLemmatizer, PorterStemmer\n",
        "from nltk.stem.lancaster import LancasterStemmer\n",
        "from scipy.sparse import coo_matrix, hstack"
      ]
    },
    {
      "cell_type": "code",
      "source": [
        "from google.colab import drive\n",
        "drive.mount('/content/drive')"
      ],
      "metadata": {
        "colab": {
          "base_uri": "https://localhost:8080/"
        },
        "id": "fpIl07ZtdWKU",
        "outputId": "05dcc5d4-3566-4150-8055-ad617651c2c3"
      },
      "execution_count": 2,
      "outputs": [
        {
          "output_type": "stream",
          "name": "stdout",
          "text": [
            "Drive already mounted at /content/drive; to attempt to forcibly remount, call drive.mount(\"/content/drive\", force_remount=True).\n"
          ]
        }
      ]
    },
    {
      "cell_type": "code",
      "source": [
        "data = pd.read_csv('/content/drive/MyDrive/quora_train.csv',engine='python')\n"
      ],
      "metadata": {
        "id": "SHpOpfy2hhok"
      },
      "execution_count": 3,
      "outputs": []
    },
    {
      "cell_type": "code",
      "source": [
        "data = data.drop(columns=['id', 'qid1','qid2'])\n",
        "data"
      ],
      "metadata": {
        "id": "oM851r9ikA7p",
        "colab": {
          "base_uri": "https://localhost:8080/",
          "height": 423
        },
        "outputId": "d6c03dd3-c116-4f90-8a50-ca38ad1d1dcf"
      },
      "execution_count": 4,
      "outputs": [
        {
          "output_type": "execute_result",
          "data": {
            "text/html": [
              "\n",
              "  <div id=\"df-d641b3e5-e28f-4feb-9256-d02acc636268\">\n",
              "    <div class=\"colab-df-container\">\n",
              "      <div>\n",
              "<style scoped>\n",
              "    .dataframe tbody tr th:only-of-type {\n",
              "        vertical-align: middle;\n",
              "    }\n",
              "\n",
              "    .dataframe tbody tr th {\n",
              "        vertical-align: top;\n",
              "    }\n",
              "\n",
              "    .dataframe thead th {\n",
              "        text-align: right;\n",
              "    }\n",
              "</style>\n",
              "<table border=\"1\" class=\"dataframe\">\n",
              "  <thead>\n",
              "    <tr style=\"text-align: right;\">\n",
              "      <th></th>\n",
              "      <th>question1</th>\n",
              "      <th>question2</th>\n",
              "      <th>is_duplicate</th>\n",
              "    </tr>\n",
              "  </thead>\n",
              "  <tbody>\n",
              "    <tr>\n",
              "      <th>0</th>\n",
              "      <td>What is the step by step guide to invest in sh...</td>\n",
              "      <td>What is the step by step guide to invest in sh...</td>\n",
              "      <td>0</td>\n",
              "    </tr>\n",
              "    <tr>\n",
              "      <th>1</th>\n",
              "      <td>What is the story of Kohinoor (Koh-i-Noor) Dia...</td>\n",
              "      <td>What would happen if the Indian government sto...</td>\n",
              "      <td>0</td>\n",
              "    </tr>\n",
              "    <tr>\n",
              "      <th>2</th>\n",
              "      <td>How can I increase the speed of my internet co...</td>\n",
              "      <td>How can Internet speed be increased by hacking...</td>\n",
              "      <td>0</td>\n",
              "    </tr>\n",
              "    <tr>\n",
              "      <th>3</th>\n",
              "      <td>Why am I mentally very lonely? How can I solve...</td>\n",
              "      <td>Find the remainder when [math]23^{24}[/math] i...</td>\n",
              "      <td>0</td>\n",
              "    </tr>\n",
              "    <tr>\n",
              "      <th>4</th>\n",
              "      <td>Which one dissolve in water quikly sugar, salt...</td>\n",
              "      <td>Which fish would survive in salt water?</td>\n",
              "      <td>0</td>\n",
              "    </tr>\n",
              "    <tr>\n",
              "      <th>...</th>\n",
              "      <td>...</td>\n",
              "      <td>...</td>\n",
              "      <td>...</td>\n",
              "    </tr>\n",
              "    <tr>\n",
              "      <th>404285</th>\n",
              "      <td>How many keywords are there in the Racket prog...</td>\n",
              "      <td>How many keywords are there in PERL Programmin...</td>\n",
              "      <td>0</td>\n",
              "    </tr>\n",
              "    <tr>\n",
              "      <th>404286</th>\n",
              "      <td>Do you believe there is life after death?</td>\n",
              "      <td>Is it true that there is life after death?</td>\n",
              "      <td>1</td>\n",
              "    </tr>\n",
              "    <tr>\n",
              "      <th>404287</th>\n",
              "      <td>What is one coin?</td>\n",
              "      <td>What's this coin?</td>\n",
              "      <td>0</td>\n",
              "    </tr>\n",
              "    <tr>\n",
              "      <th>404288</th>\n",
              "      <td>What is the approx annual cost of living while...</td>\n",
              "      <td>I am having little hairfall problem but I want...</td>\n",
              "      <td>0</td>\n",
              "    </tr>\n",
              "    <tr>\n",
              "      <th>404289</th>\n",
              "      <td>What is like to have sex with cousin?</td>\n",
              "      <td>What is it like to have sex with your cousin?</td>\n",
              "      <td>0</td>\n",
              "    </tr>\n",
              "  </tbody>\n",
              "</table>\n",
              "<p>404290 rows × 3 columns</p>\n",
              "</div>\n",
              "      <button class=\"colab-df-convert\" onclick=\"convertToInteractive('df-d641b3e5-e28f-4feb-9256-d02acc636268')\"\n",
              "              title=\"Convert this dataframe to an interactive table.\"\n",
              "              style=\"display:none;\">\n",
              "        \n",
              "  <svg xmlns=\"http://www.w3.org/2000/svg\" height=\"24px\"viewBox=\"0 0 24 24\"\n",
              "       width=\"24px\">\n",
              "    <path d=\"M0 0h24v24H0V0z\" fill=\"none\"/>\n",
              "    <path d=\"M18.56 5.44l.94 2.06.94-2.06 2.06-.94-2.06-.94-.94-2.06-.94 2.06-2.06.94zm-11 1L8.5 8.5l.94-2.06 2.06-.94-2.06-.94L8.5 2.5l-.94 2.06-2.06.94zm10 10l.94 2.06.94-2.06 2.06-.94-2.06-.94-.94-2.06-.94 2.06-2.06.94z\"/><path d=\"M17.41 7.96l-1.37-1.37c-.4-.4-.92-.59-1.43-.59-.52 0-1.04.2-1.43.59L10.3 9.45l-7.72 7.72c-.78.78-.78 2.05 0 2.83L4 21.41c.39.39.9.59 1.41.59.51 0 1.02-.2 1.41-.59l7.78-7.78 2.81-2.81c.8-.78.8-2.07 0-2.86zM5.41 20L4 18.59l7.72-7.72 1.47 1.35L5.41 20z\"/>\n",
              "  </svg>\n",
              "      </button>\n",
              "      \n",
              "  <style>\n",
              "    .colab-df-container {\n",
              "      display:flex;\n",
              "      flex-wrap:wrap;\n",
              "      gap: 12px;\n",
              "    }\n",
              "\n",
              "    .colab-df-convert {\n",
              "      background-color: #E8F0FE;\n",
              "      border: none;\n",
              "      border-radius: 50%;\n",
              "      cursor: pointer;\n",
              "      display: none;\n",
              "      fill: #1967D2;\n",
              "      height: 32px;\n",
              "      padding: 0 0 0 0;\n",
              "      width: 32px;\n",
              "    }\n",
              "\n",
              "    .colab-df-convert:hover {\n",
              "      background-color: #E2EBFA;\n",
              "      box-shadow: 0px 1px 2px rgba(60, 64, 67, 0.3), 0px 1px 3px 1px rgba(60, 64, 67, 0.15);\n",
              "      fill: #174EA6;\n",
              "    }\n",
              "\n",
              "    [theme=dark] .colab-df-convert {\n",
              "      background-color: #3B4455;\n",
              "      fill: #D2E3FC;\n",
              "    }\n",
              "\n",
              "    [theme=dark] .colab-df-convert:hover {\n",
              "      background-color: #434B5C;\n",
              "      box-shadow: 0px 1px 3px 1px rgba(0, 0, 0, 0.15);\n",
              "      filter: drop-shadow(0px 1px 2px rgba(0, 0, 0, 0.3));\n",
              "      fill: #FFFFFF;\n",
              "    }\n",
              "  </style>\n",
              "\n",
              "      <script>\n",
              "        const buttonEl =\n",
              "          document.querySelector('#df-d641b3e5-e28f-4feb-9256-d02acc636268 button.colab-df-convert');\n",
              "        buttonEl.style.display =\n",
              "          google.colab.kernel.accessAllowed ? 'block' : 'none';\n",
              "\n",
              "        async function convertToInteractive(key) {\n",
              "          const element = document.querySelector('#df-d641b3e5-e28f-4feb-9256-d02acc636268');\n",
              "          const dataTable =\n",
              "            await google.colab.kernel.invokeFunction('convertToInteractive',\n",
              "                                                     [key], {});\n",
              "          if (!dataTable) return;\n",
              "\n",
              "          const docLinkHtml = 'Like what you see? Visit the ' +\n",
              "            '<a target=\"_blank\" href=https://colab.research.google.com/notebooks/data_table.ipynb>data table notebook</a>'\n",
              "            + ' to learn more about interactive tables.';\n",
              "          element.innerHTML = '';\n",
              "          dataTable['output_type'] = 'display_data';\n",
              "          await google.colab.output.renderOutput(dataTable, element);\n",
              "          const docLink = document.createElement('div');\n",
              "          docLink.innerHTML = docLinkHtml;\n",
              "          element.appendChild(docLink);\n",
              "        }\n",
              "      </script>\n",
              "    </div>\n",
              "  </div>\n",
              "  "
            ],
            "text/plain": [
              "                                                question1  ... is_duplicate\n",
              "0       What is the step by step guide to invest in sh...  ...            0\n",
              "1       What is the story of Kohinoor (Koh-i-Noor) Dia...  ...            0\n",
              "2       How can I increase the speed of my internet co...  ...            0\n",
              "3       Why am I mentally very lonely? How can I solve...  ...            0\n",
              "4       Which one dissolve in water quikly sugar, salt...  ...            0\n",
              "...                                                   ...  ...          ...\n",
              "404285  How many keywords are there in the Racket prog...  ...            0\n",
              "404286          Do you believe there is life after death?  ...            1\n",
              "404287                                  What is one coin?  ...            0\n",
              "404288  What is the approx annual cost of living while...  ...            0\n",
              "404289              What is like to have sex with cousin?  ...            0\n",
              "\n",
              "[404290 rows x 3 columns]"
            ]
          },
          "metadata": {},
          "execution_count": 4
        }
      ]
    },
    {
      "cell_type": "code",
      "source": [
        "data = data.fillna(' ')"
      ],
      "metadata": {
        "id": "EYcF3RaOtBFz"
      },
      "execution_count": 5,
      "outputs": []
    },
    {
      "cell_type": "code",
      "source": [
        "train = data.iloc[0:363861,:]\n",
        "test = data.iloc[363861:,:]\n"
      ],
      "metadata": {
        "id": "luzg9dTmntBA"
      },
      "execution_count": 6,
      "outputs": []
    },
    {
      "cell_type": "code",
      "source": [
        "train_y = train.iloc[:,2]\n",
        "test_y = test.iloc[:,2]\n"
      ],
      "metadata": {
        "id": "Ek8mD9U-ykjX"
      },
      "execution_count": 7,
      "outputs": []
    },
    {
      "cell_type": "code",
      "source": [
        "train_X = [train.iloc[:,0],train.iloc[:,1]]\n",
        "train_X = np.array(train_X)\n"
      ],
      "metadata": {
        "id": "5mVM3t6JUiZS"
      },
      "execution_count": 8,
      "outputs": []
    },
    {
      "cell_type": "code",
      "source": [
        "train_X = np.reshape(train_X,(1,-1))\n",
        "train_X"
      ],
      "metadata": {
        "colab": {
          "base_uri": "https://localhost:8080/"
        },
        "id": "RWyvHLk9k0zs",
        "outputId": "42461b34-6503-4bd9-dc86-19fc94f7c2ad"
      },
      "execution_count": 9,
      "outputs": [
        {
          "output_type": "execute_result",
          "data": {
            "text/plain": [
              "array([['What is the step by step guide to invest in share market in india?',\n",
              "        'What is the story of Kohinoor (Koh-i-Noor) Diamond?',\n",
              "        'How can I increase the speed of my internet connection while using a VPN?',\n",
              "        ..., 'How do I lose weight without stopping?',\n",
              "        'Why are computer and TV screens typically square or rectangle in shape?',\n",
              "        'What are the safety precautions on handling shotguns proposed by the NRA in Utah?']],\n",
              "      dtype=object)"
            ]
          },
          "metadata": {},
          "execution_count": 9
        }
      ]
    },
    {
      "cell_type": "code",
      "source": [
        "from scipy.sparse import coo_matrix, hstack\n",
        "cv = CountVectorizer(stop_words={'english'})\n",
        "X = cv.fit_transform(train_X.ravel())\n",
        "X1 = X[0:363861,:]\n",
        "\n",
        "X2 = X[363861:,:]\n",
        "\n",
        "X = hstack([X1,X2])\n",
        "lr = LogisticRegression(max_iter=2000)\n",
        "lr.fit(X, train_y)\n",
        "test_X = [test.iloc[:,0],test.iloc[:,1]]\n",
        "test_X = np.array(test_X)\n",
        "test_X = np.reshape(test_X,(1,-1))\n",
        "T = cv.transform(test_X.ravel())\n",
        "print(T.shape)\n",
        "\n",
        "T1 = T[0:40429,:]\n",
        "T2 = T[40429:,:]\n",
        "T = hstack([T1,T2])\n",
        "print(T.shape)\n",
        "\n",
        "predictions = lr.predict(T)\n",
        "print(predictions)\n",
        "accuracy = np.mean(predictions == test_y)\n",
        "print('accuracy = ' + str(accuracy))\n"
      ],
      "metadata": {
        "colab": {
          "base_uri": "https://localhost:8080/"
        },
        "id": "6MQSNeIcChTY",
        "outputId": "47c69363-92bb-4b0e-e053-2b3147081e1b"
      },
      "execution_count": 11,
      "outputs": [
        {
          "output_type": "stream",
          "name": "stdout",
          "text": [
            "(80858, 82205)\n",
            "(40429, 164410)\n",
            "[1 1 1 ... 0 0 0]\n",
            "accuracy = 0.7577728857997972\n"
          ]
        }
      ]
    },
    {
      "cell_type": "code",
      "source": [
        "\n",
        "def porter_stemmer(corpus):\n",
        "    tokenizer = RegexpTokenizer(r'\\w+')\n",
        "    ps = PorterStemmer()\n",
        "    tokens = [ps.stem(token) for token in tokenizer.tokenize(corpus)]\n",
        "    return tokens\n",
        "\n",
        "\n",
        "cv = CountVectorizer(stop_words={'english'},tokenizer=porter_stemmer)\n",
        "X = cv.fit_transform(train_X.ravel())\n",
        "X1 = X[0:363861,:]\n",
        "\n",
        "X2 = X[363861:,:]\n",
        "\n",
        "X = hstack([X1,X2])\n",
        "lr = LogisticRegression(max_iter=1000)\n",
        "lr.fit(X, train_y)\n",
        "test_X = [test.iloc[:,0],test.iloc[:,1]]\n",
        "test_X = np.array(test_X)\n",
        "test_X = np.reshape(test_X,(1,-1))\n",
        "T = cv.transform(test_X.ravel())\n",
        "print(T.shape)\n",
        "\n",
        "T1 = T[0:40429,:]\n",
        "T2 = T[40429:,:]\n",
        "T = hstack([T1,T2])\n",
        "print(T.shape)\n",
        "\n",
        "predictions = lr.predict(T)\n",
        "print(predictions)\n",
        "accuracy = np.mean(predictions == test_y)\n",
        "print('accuracy = ' + str(accuracy))"
      ],
      "metadata": {
        "id": "RPIbAGRdAjnw"
      },
      "execution_count": null,
      "outputs": []
    },
    {
      "cell_type": "code",
      "source": [
        "cv = CountVectorizer(stop_words={'english'}, ngram_range=(1, 2))\n",
        "X = cv.fit_transform(train_X.ravel())\n",
        "X1 = X[0:363861,:]\n",
        "\n",
        "X2 = X[363861:,:]\n",
        "\n",
        "X = hstack([X1,X2])\n",
        "lr = LogisticRegression(max_iter=1000)\n",
        "lr.fit(X, train_y)\n",
        "test_X = [test.iloc[:,0],test.iloc[:,1]]\n",
        "test_X = np.array(test_X)\n",
        "test_X = np.reshape(test_X,(1,-1))\n",
        "T = cv.transform(test_X.ravel())\n",
        "print(T.shape)\n",
        "\n",
        "T1 = T[0:40429,:]\n",
        "T2 = T[40429:,:]\n",
        "T = hstack([T1,T2])\n",
        "print(T.shape)\n",
        "\n",
        "predictions = lr.predict(T)\n",
        "print(predictions)\n",
        "accuracy = np.mean(predictions == test_y)\n",
        "print('accuracy = ' + str(accuracy))"
      ],
      "metadata": {
        "id": "c34xxOdOHgh4"
      },
      "execution_count": null,
      "outputs": []
    },
    {
      "cell_type": "code",
      "source": [
        "cv = CountVectorizer( ngram_range=(1, 2))\n",
        "X = cv.fit_transform(train_X.ravel())\n",
        "X1 = X[0:363861,:]\n",
        "\n",
        "X2 = X[363861:,:]\n",
        "\n",
        "X = hstack([X1,X2])\n",
        "lr = LogisticRegression(max_iter=1000)\n",
        "lr.fit(X, train_y)\n",
        "test_X = [test.iloc[:,0],test.iloc[:,1]]\n",
        "test_X = np.array(test_X)\n",
        "test_X = np.reshape(test_X,(1,-1))\n",
        "T = cv.transform(test_X.ravel())\n",
        "print(T.shape)\n",
        "\n",
        "T1 = T[0:40429,:]\n",
        "T2 = T[40429:,:]\n",
        "T = hstack([T1,T2])\n",
        "print(T.shape)\n",
        "\n",
        "predictions = lr.predict(T)\n",
        "print(predictions)\n",
        "accuracy = np.mean(predictions == test_y)\n",
        "print('accuracy = ' + str(accuracy))"
      ],
      "metadata": {
        "id": "sG3ib8jQPCyk"
      },
      "execution_count": null,
      "outputs": []
    },
    {
      "cell_type": "code",
      "source": [
        "cv = CountVectorizer(tokenizer=porter_stemmer, ngram_range=(1, 2))\n",
        "X = cv.fit_transform(train_X.ravel())\n",
        "X1 = X[0:363861,:]\n",
        "\n",
        "X2 = X[363861:,:]\n",
        "\n",
        "X = hstack([X1,X2])\n",
        "lr = LogisticRegression(max_iter=1000)\n",
        "lr.fit(X, train_y)\n",
        "test_X = [test.iloc[:,0],test.iloc[:,1]]\n",
        "test_X = np.array(test_X)\n",
        "test_X = np.reshape(test_X,(1,-1))\n",
        "T = cv.transform(test_X.ravel())\n",
        "print(T.shape)\n",
        "\n",
        "T1 = T[0:40429,:]\n",
        "T2 = T[40429:,:]\n",
        "T = hstack([T1,T2])\n",
        "print(T.shape)\n",
        "\n",
        "predictions = lr.predict(T)\n",
        "print(predictions)\n",
        "accuracy = np.mean(predictions == test_y)\n",
        "print('accuracy = ' + str(accuracy))"
      ],
      "metadata": {
        "id": "6SsRjJO0RPu7"
      },
      "execution_count": null,
      "outputs": []
    },
    {
      "cell_type": "code",
      "source": [
        "from scipy.sparse import coo_matrix, hstack\n",
        "cv = CountVectorizer( ngram_range=(1, 3))\n",
        "X = cv.fit_transform(train_X.ravel())\n",
        "X1 = X[0:363861,:]\n",
        "\n",
        "X2 = X[363861:,:]\n",
        "\n",
        "X = hstack([X1,X2])\n",
        "lr = LogisticRegression(max_iter=1000)\n",
        "lr.fit(X, train_y)\n",
        "test_X = [test.iloc[:,0],test.iloc[:,1]]\n",
        "test_X = np.array(test_X)\n",
        "test_X = np.reshape(test_X,(1,-1))\n",
        "T = cv.transform(test_X.ravel())\n",
        "print(T.shape)\n",
        "\n",
        "T1 = T[0:40429,:]\n",
        "T2 = T[40429:,:]\n",
        "T = hstack([T1,T2])\n",
        "print(T.shape)\n",
        "\n",
        "predictions = lr.predict(T)\n",
        "print(predictions)\n",
        "\n",
        "accuracy = np.mean(predictions == test_y)\n",
        "print('accuracy = ' + str(accuracy))"
      ],
      "metadata": {
        "id": "deCP87-CVkVn"
      },
      "execution_count": null,
      "outputs": []
    },
    {
      "cell_type": "code",
      "source": [
        "cv = CountVectorizer( ngram_range=(1, 7))\n",
        "X = cv.fit_transform(train_X.ravel())\n",
        "X1 = X[0:363861,:]\n",
        "\n",
        "X2 = X[363861:,:]\n",
        "\n",
        "X = hstack([X1,X2])\n",
        "lr = LogisticRegression(max_iter=700)\n",
        "lr.fit(X, train_y)\n",
        "test_X = [test.iloc[:,0],test.iloc[:,1]]\n",
        "test_X = np.array(test_X)\n",
        "test_X = np.reshape(test_X,(1,-1))\n",
        "T = cv.transform(test_X.ravel())\n",
        "print(T.shape)\n",
        "\n",
        "T1 = T[0:40429,:]\n",
        "T2 = T[40429:,:]\n",
        "T = hstack([T1,T2])\n",
        "print(T.shape)\n",
        "\n",
        "predictions = lr.predict(T)\n",
        "print(predictions)\n",
        "\n",
        "accuracy = np.mean(predictions == test_y)\n",
        "print('accuracy = ' + str(accuracy))"
      ],
      "metadata": {
        "id": "zufFbMwacgzs"
      },
      "execution_count": null,
      "outputs": []
    },
    {
      "cell_type": "markdown",
      "source": [
        "# Display all the pairs of sentences that we predicted wrong, and calculate precision, recall and F1\n"
      ],
      "metadata": {
        "id": "rNzEGzfMsJOr"
      }
    },
    {
      "cell_type": "code",
      "source": [
        "\n",
        "TP = 0\n",
        "FP = 0\n",
        "FN = 0\n",
        "incorrect = []\n",
        "for i in range(40429):\n",
        "  if predictions[i] != np.array(test_y)[i]:\n",
        "    incorrect.append(i+363861)\n",
        "    if predictions[i]==0:\n",
        "      FN = FN + 1\n",
        "    else:\n",
        "      FP = FP + 1\n",
        "  elif predictions[i] == np.array(test_y)[i] ==1 :\n",
        "    TP = TP + 1\n",
        "\n",
        "\n",
        "\n",
        "precision = TP/(TP+FP)\n",
        "recall = TP/(TP+FN)\n",
        "F1 = (2*precision*recall)/(precision+recall)\n",
        "\n",
        "print('accuracy = ' + str(accuracy))\n",
        "print('precision = ' + str(precision))\n",
        "print('recall = ' + str(recall))\n",
        "print('F1 = ' + str(F1))\n",
        "\n",
        "\n",
        "\n",
        "\n",
        "incorrect_df = data.iloc[0:1,:] # start with a dummy\n",
        "\n",
        "\n",
        "for i in range(len(incorrect)):\n",
        "  \n",
        "  incorrect_df=incorrect_df.append(data.iloc[incorrect[i]:incorrect[i]+1,:], ignore_index=True)\n",
        "  \n",
        "\n",
        "incorrect_df = incorrect_df.drop(0) # drop dummy\n",
        "incorrect_df"
      ],
      "metadata": {
        "colab": {
          "base_uri": "https://localhost:8080/",
          "height": 493
        },
        "id": "lPJhANeGlYVc",
        "outputId": "30337c4d-9133-4c31-ff0a-ea9140c630d6"
      },
      "execution_count": 13,
      "outputs": [
        {
          "output_type": "stream",
          "name": "stdout",
          "text": [
            "accuracy = 0.8277226743179401\n",
            "precision = 0.7924295919205189\n",
            "recall = 0.6850511073253833\n",
            "F1 = 0.7348383903757566\n"
          ]
        },
        {
          "output_type": "execute_result",
          "data": {
            "text/html": [
              "\n",
              "  <div id=\"df-0d9789ae-e919-4b89-91a7-374728619892\">\n",
              "    <div class=\"colab-df-container\">\n",
              "      <div>\n",
              "<style scoped>\n",
              "    .dataframe tbody tr th:only-of-type {\n",
              "        vertical-align: middle;\n",
              "    }\n",
              "\n",
              "    .dataframe tbody tr th {\n",
              "        vertical-align: top;\n",
              "    }\n",
              "\n",
              "    .dataframe thead th {\n",
              "        text-align: right;\n",
              "    }\n",
              "</style>\n",
              "<table border=\"1\" class=\"dataframe\">\n",
              "  <thead>\n",
              "    <tr style=\"text-align: right;\">\n",
              "      <th></th>\n",
              "      <th>question1</th>\n",
              "      <th>question2</th>\n",
              "      <th>is_duplicate</th>\n",
              "    </tr>\n",
              "  </thead>\n",
              "  <tbody>\n",
              "    <tr>\n",
              "      <th>1</th>\n",
              "      <td>How does one start a small business?</td>\n",
              "      <td>How can I start a successful small business?</td>\n",
              "      <td>1</td>\n",
              "    </tr>\n",
              "    <tr>\n",
              "      <th>2</th>\n",
              "      <td>What are the requisites to join the Canadian a...</td>\n",
              "      <td>How can you join the Canadian army?</td>\n",
              "      <td>1</td>\n",
              "    </tr>\n",
              "    <tr>\n",
              "      <th>3</th>\n",
              "      <td>What is the best way to ward off stress?</td>\n",
              "      <td>What are the best ways to ward off stress?</td>\n",
              "      <td>1</td>\n",
              "    </tr>\n",
              "    <tr>\n",
              "      <th>4</th>\n",
              "      <td>Why is wine a good example in moral philosophy?</td>\n",
              "      <td>In Agile, how do we estimate and what do we te...</td>\n",
              "      <td>0</td>\n",
              "    </tr>\n",
              "    <tr>\n",
              "      <th>5</th>\n",
              "      <td>Have there ever been any black members of the ...</td>\n",
              "      <td>Is it true that black people were members of t...</td>\n",
              "      <td>1</td>\n",
              "    </tr>\n",
              "    <tr>\n",
              "      <th>...</th>\n",
              "      <td>...</td>\n",
              "      <td>...</td>\n",
              "      <td>...</td>\n",
              "    </tr>\n",
              "    <tr>\n",
              "      <th>6961</th>\n",
              "      <td>How does the burning of fossil fuels contribut...</td>\n",
              "      <td>Why does CO2 contribute more to global warming...</td>\n",
              "      <td>0</td>\n",
              "    </tr>\n",
              "    <tr>\n",
              "      <th>6962</th>\n",
              "      <td>What happens if you put milk in a coffee maker?</td>\n",
              "      <td>What would happen if I put milk instead of wat...</td>\n",
              "      <td>1</td>\n",
              "    </tr>\n",
              "    <tr>\n",
              "      <th>6963</th>\n",
              "      <td>What are some outfit ideas to wear to a frat p...</td>\n",
              "      <td>What are some outfit ideas wear to a frat them...</td>\n",
              "      <td>1</td>\n",
              "    </tr>\n",
              "    <tr>\n",
              "      <th>6964</th>\n",
              "      <td>What do you think of the removal of the MagSaf...</td>\n",
              "      <td>What will the CPU upgrade to the 2016 Apple Ma...</td>\n",
              "      <td>0</td>\n",
              "    </tr>\n",
              "    <tr>\n",
              "      <th>6965</th>\n",
              "      <td>What does Jainism say about homosexuality?</td>\n",
              "      <td>What does Jainism say about Gays and Homosexua...</td>\n",
              "      <td>1</td>\n",
              "    </tr>\n",
              "  </tbody>\n",
              "</table>\n",
              "<p>6965 rows × 3 columns</p>\n",
              "</div>\n",
              "      <button class=\"colab-df-convert\" onclick=\"convertToInteractive('df-0d9789ae-e919-4b89-91a7-374728619892')\"\n",
              "              title=\"Convert this dataframe to an interactive table.\"\n",
              "              style=\"display:none;\">\n",
              "        \n",
              "  <svg xmlns=\"http://www.w3.org/2000/svg\" height=\"24px\"viewBox=\"0 0 24 24\"\n",
              "       width=\"24px\">\n",
              "    <path d=\"M0 0h24v24H0V0z\" fill=\"none\"/>\n",
              "    <path d=\"M18.56 5.44l.94 2.06.94-2.06 2.06-.94-2.06-.94-.94-2.06-.94 2.06-2.06.94zm-11 1L8.5 8.5l.94-2.06 2.06-.94-2.06-.94L8.5 2.5l-.94 2.06-2.06.94zm10 10l.94 2.06.94-2.06 2.06-.94-2.06-.94-.94-2.06-.94 2.06-2.06.94z\"/><path d=\"M17.41 7.96l-1.37-1.37c-.4-.4-.92-.59-1.43-.59-.52 0-1.04.2-1.43.59L10.3 9.45l-7.72 7.72c-.78.78-.78 2.05 0 2.83L4 21.41c.39.39.9.59 1.41.59.51 0 1.02-.2 1.41-.59l7.78-7.78 2.81-2.81c.8-.78.8-2.07 0-2.86zM5.41 20L4 18.59l7.72-7.72 1.47 1.35L5.41 20z\"/>\n",
              "  </svg>\n",
              "      </button>\n",
              "      \n",
              "  <style>\n",
              "    .colab-df-container {\n",
              "      display:flex;\n",
              "      flex-wrap:wrap;\n",
              "      gap: 12px;\n",
              "    }\n",
              "\n",
              "    .colab-df-convert {\n",
              "      background-color: #E8F0FE;\n",
              "      border: none;\n",
              "      border-radius: 50%;\n",
              "      cursor: pointer;\n",
              "      display: none;\n",
              "      fill: #1967D2;\n",
              "      height: 32px;\n",
              "      padding: 0 0 0 0;\n",
              "      width: 32px;\n",
              "    }\n",
              "\n",
              "    .colab-df-convert:hover {\n",
              "      background-color: #E2EBFA;\n",
              "      box-shadow: 0px 1px 2px rgba(60, 64, 67, 0.3), 0px 1px 3px 1px rgba(60, 64, 67, 0.15);\n",
              "      fill: #174EA6;\n",
              "    }\n",
              "\n",
              "    [theme=dark] .colab-df-convert {\n",
              "      background-color: #3B4455;\n",
              "      fill: #D2E3FC;\n",
              "    }\n",
              "\n",
              "    [theme=dark] .colab-df-convert:hover {\n",
              "      background-color: #434B5C;\n",
              "      box-shadow: 0px 1px 3px 1px rgba(0, 0, 0, 0.15);\n",
              "      filter: drop-shadow(0px 1px 2px rgba(0, 0, 0, 0.3));\n",
              "      fill: #FFFFFF;\n",
              "    }\n",
              "  </style>\n",
              "\n",
              "      <script>\n",
              "        const buttonEl =\n",
              "          document.querySelector('#df-0d9789ae-e919-4b89-91a7-374728619892 button.colab-df-convert');\n",
              "        buttonEl.style.display =\n",
              "          google.colab.kernel.accessAllowed ? 'block' : 'none';\n",
              "\n",
              "        async function convertToInteractive(key) {\n",
              "          const element = document.querySelector('#df-0d9789ae-e919-4b89-91a7-374728619892');\n",
              "          const dataTable =\n",
              "            await google.colab.kernel.invokeFunction('convertToInteractive',\n",
              "                                                     [key], {});\n",
              "          if (!dataTable) return;\n",
              "\n",
              "          const docLinkHtml = 'Like what you see? Visit the ' +\n",
              "            '<a target=\"_blank\" href=https://colab.research.google.com/notebooks/data_table.ipynb>data table notebook</a>'\n",
              "            + ' to learn more about interactive tables.';\n",
              "          element.innerHTML = '';\n",
              "          dataTable['output_type'] = 'display_data';\n",
              "          await google.colab.output.renderOutput(dataTable, element);\n",
              "          const docLink = document.createElement('div');\n",
              "          docLink.innerHTML = docLinkHtml;\n",
              "          element.appendChild(docLink);\n",
              "        }\n",
              "      </script>\n",
              "    </div>\n",
              "  </div>\n",
              "  "
            ],
            "text/plain": [
              "                                              question1  ... is_duplicate\n",
              "1                  How does one start a small business?  ...            1\n",
              "2     What are the requisites to join the Canadian a...  ...            1\n",
              "3              What is the best way to ward off stress?  ...            1\n",
              "4       Why is wine a good example in moral philosophy?  ...            0\n",
              "5     Have there ever been any black members of the ...  ...            1\n",
              "...                                                 ...  ...          ...\n",
              "6961  How does the burning of fossil fuels contribut...  ...            0\n",
              "6962    What happens if you put milk in a coffee maker?  ...            1\n",
              "6963  What are some outfit ideas to wear to a frat p...  ...            1\n",
              "6964  What do you think of the removal of the MagSaf...  ...            0\n",
              "6965         What does Jainism say about homosexuality?  ...            1\n",
              "\n",
              "[6965 rows x 3 columns]"
            ]
          },
          "metadata": {},
          "execution_count": 13
        }
      ]
    },
    {
      "cell_type": "markdown",
      "source": [
        "# Confusion Matrix"
      ],
      "metadata": {
        "id": "LaNZjQbZF9C0"
      }
    },
    {
      "cell_type": "code",
      "source": [
        "from sklearn.metrics import confusion_matrix, ConfusionMatrixDisplay \n",
        "import matplotlib.pyplot as plt \n",
        "print(\"Quora Questions\")\n",
        "cm_quora=confusion_matrix(test_y,predictions)\n",
        "disp_quora=ConfusionMatrixDisplay(confusion_matrix=cm_quora,display_labels=lr.classes_) \n",
        "disp_quora.plot() \n",
        "plt.show()"
      ],
      "metadata": {
        "colab": {
          "base_uri": "https://localhost:8080/",
          "height": 296
        },
        "id": "SBwzIfzf7wwR",
        "outputId": "f63b47a6-a6b2-4cab-9dcd-ec824e755b87"
      },
      "execution_count": 14,
      "outputs": [
        {
          "output_type": "stream",
          "name": "stdout",
          "text": [
            "Quora Questions\n"
          ]
        },
        {
          "output_type": "display_data",
          "data": {
            "image/png": "[encoded data removed]",
            "text/plain": [
              "<Figure size 432x288 with 2 Axes>"
            ]
          },
          "metadata": {
            "needs_background": "light"
          }
        }
      ]
    }
  ]
}